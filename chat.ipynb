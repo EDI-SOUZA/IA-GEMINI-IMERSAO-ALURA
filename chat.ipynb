{
  "nbformat": 4,
  "nbformat_minor": 0,
  "metadata": {
    "colab": {
      "provenance": [],
      "authorship_tag": "ABX9TyNyNjj6GItqEOiT+pTOxzX1",
      "include_colab_link": true
    },
    "kernelspec": {
      "name": "python3",
      "display_name": "Python 3"
    },
    "language_info": {
      "name": "python"
    }
  },
  "cells": [
    {
      "cell_type": "markdown",
      "metadata": {
        "id": "view-in-github",
        "colab_type": "text"
      },
      "source": [
        "<a href=\"https://colab.research.google.com/github/EDI-SOUZA/projeto_imersao_ia_alura_chat/blob/main/chat.ipynb\" target=\"_parent\"><img src=\"https://colab.research.google.com/assets/colab-badge.svg\" alt=\"Open In Colab\"/></a>"
      ]
    },
    {
      "cell_type": "code",
      "execution_count": null,
      "metadata": {
        "id": "G07ku5ZN1egf"
      },
      "outputs": [],
      "source": [
        "!pip install -q -U google-generativeai"
      ]
    },
    {
      "cell_type": "code",
      "source": [
        "import google.generativeai as genai\n",
        "from google.colab import userdata\n",
        "api_key = userdata.get(\"SECRET_KEY\")\n",
        "genai.configure(api_key=api_key)"
      ],
      "metadata": {
        "id": "872L3uDb20tv"
      },
      "execution_count": null,
      "outputs": []
    },
    {
      "cell_type": "code",
      "source": [
        "generation_config = {\n",
        "    \"candidate_count\": 1,\n",
        "    \"temperature\": 0.5,\n",
        "}"
      ],
      "metadata": {
        "id": "6cALY3vi5GyE"
      },
      "execution_count": null,
      "outputs": []
    },
    {
      "cell_type": "code",
      "source": [
        "safety_settings = {\n",
        "    \"HARASSMENT\": \"BLOCK_NONE\",\n",
        "    \"HATE\": \"BLOCK_NONE\",\n",
        "    \"SEXUAL\": \"BLOCK_NONE\",\n",
        "    \"DANGEROUS\": \"BLOCK_NONE\",\n",
        "}"
      ],
      "metadata": {
        "id": "lrg85pDf5sSc"
      },
      "execution_count": null,
      "outputs": []
    },
    {
      "cell_type": "code",
      "source": [
        "model = genai.GenerativeModel(model_name = \"gemini-1.0-pro\",\n",
        "                              generation_config = generation_config,\n",
        "                              safety_settings = safety_settings\n",
        "                              )"
      ],
      "metadata": {
        "id": "923wiede6H6b"
      },
      "execution_count": null,
      "outputs": []
    },
    {
      "cell_type": "code",
      "source": [
        "response = model.generate_content(\"Write a story about a magic backpack.\")\n",
        "print(response.text)"
      ],
      "metadata": {
        "id": "NEf4zRV_60ko"
      },
      "execution_count": null,
      "outputs": []
    },
    {
      "cell_type": "code",
      "source": [
        "chat = model.start_chat(history = [])"
      ],
      "metadata": {
        "id": "hwVNBiXM7Rk8"
      },
      "execution_count": null,
      "outputs": []
    },
    {
      "cell_type": "code",
      "source": [
        "prompt = input(\"Faça sua pergunta: \")\n",
        "\n",
        "while prompt != \"sair\" or prompt != \"fim\":\n",
        "  responde = chat.send_message(prompt)\n",
        "  print(\"Resposta: \", responde.text, \"\\n\")\n",
        "  prompt = input(\"Faça sua pergunta: \")\n"
      ],
      "metadata": {
        "id": "QWMLscyG7dla"
      },
      "execution_count": null,
      "outputs": []
    },
    {
      "cell_type": "code",
      "source": [
        "import textwrap\n",
        "from IPython.display import display\n",
        "from IPython.display import Markdown\n",
        "\n",
        "def to_markdown(text):\n",
        "  text = text.replace('\"', '*')\n",
        "  return Markdown(textwrap.indent(text, '    ', predicate=lambda _: True))\n",
        "\n",
        "for message in chat.history:\n",
        "  display(to_markdown(f\"**{message.role}**: {message.parts[0].text}\"))\n",
        "  print('--------------------------------------------------')"
      ],
      "metadata": {
        "id": "ycJ5c01xATRX"
      },
      "execution_count": null,
      "outputs": []
    }
  ]
}